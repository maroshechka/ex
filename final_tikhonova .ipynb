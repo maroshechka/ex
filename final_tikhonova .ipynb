{
 "cells": [
  {
   "cell_type": "code",
   "execution_count": 1,
   "metadata": {},
   "outputs": [
    {
     "name": "stderr",
     "output_type": "stream",
     "text": [
      "/opt/tljh/user/lib/python3.7/site-packages/outdated/utils.py:18: OutdatedCacheFailedWarning: Failed to use cache while checking for outdated package.\n",
      "Set the environment variable OUTDATED_RAISE_EXCEPTION=1 for a full traceback.\n",
      "Set the environment variable OUTDATED_IGNORE=1 to disable these warnings.\n",
      "  **kwargs\n",
      "/opt/tljh/user/lib/python3.7/site-packages/outdated/utils.py:18: OutdatedPackageWarning: The package pingouin is out of date. Your version is 0.4.0, the latest is 0.5.4.\n",
      "Set the environment variable OUTDATED_IGNORE=1 to disable these warnings.\n",
      "  **kwargs\n",
      "/opt/tljh/user/lib/python3.7/site-packages/outdated/utils.py:18: OutdatedPackageWarning: The package outdated is out of date. Your version is 0.2.1, the latest is 0.2.2.\n",
      "Set the environment variable OUTDATED_IGNORE=1 to disable these warnings.\n",
      "  **kwargs\n"
     ]
    }
   ],
   "source": [
    "import pandas as pd\n",
    "import numpy as np\n",
    "%matplotlib inline\n",
    "import matplotlib.pyplot as plt\n",
    "import seaborn as sns\n",
    "\n",
    "import plotly.express as px\n",
    "import pingouin as pg\n",
    "import scipy.stats as ss\n",
    "from scipy.stats import chi2_contingency\n",
    "\n",
    "\n",
    "#plt.figure(figsize = (17,8))"
   ]
  },
  {
   "cell_type": "markdown",
   "metadata": {},
   "source": [
    "# Первичный анализ данных"
   ]
  },
  {
   "cell_type": "code",
   "execution_count": 2,
   "metadata": {},
   "outputs": [],
   "source": [
    "reg_data=pd.read_csv('/mnt/HC_Volume_18315164/home-jupyter/jupyter-m-tihonova/shared/problem1-reg_data.csv', sep=';')"
   ]
  },
  {
   "cell_type": "code",
   "execution_count": 3,
   "metadata": {},
   "outputs": [
    {
     "data": {
      "text/html": [
       "<div>\n",
       "<style scoped>\n",
       "    .dataframe tbody tr th:only-of-type {\n",
       "        vertical-align: middle;\n",
       "    }\n",
       "\n",
       "    .dataframe tbody tr th {\n",
       "        vertical-align: top;\n",
       "    }\n",
       "\n",
       "    .dataframe thead th {\n",
       "        text-align: right;\n",
       "    }\n",
       "</style>\n",
       "<table border=\"1\" class=\"dataframe\">\n",
       "  <thead>\n",
       "    <tr style=\"text-align: right;\">\n",
       "      <th></th>\n",
       "      <th>reg_ts</th>\n",
       "      <th>uid</th>\n",
       "    </tr>\n",
       "  </thead>\n",
       "  <tbody>\n",
       "    <tr>\n",
       "      <th>0</th>\n",
       "      <td>911382223</td>\n",
       "      <td>1</td>\n",
       "    </tr>\n",
       "    <tr>\n",
       "      <th>1</th>\n",
       "      <td>932683089</td>\n",
       "      <td>2</td>\n",
       "    </tr>\n",
       "    <tr>\n",
       "      <th>2</th>\n",
       "      <td>947802447</td>\n",
       "      <td>3</td>\n",
       "    </tr>\n",
       "    <tr>\n",
       "      <th>3</th>\n",
       "      <td>959523541</td>\n",
       "      <td>4</td>\n",
       "    </tr>\n",
       "    <tr>\n",
       "      <th>4</th>\n",
       "      <td>969103313</td>\n",
       "      <td>5</td>\n",
       "    </tr>\n",
       "  </tbody>\n",
       "</table>\n",
       "</div>"
      ],
      "text/plain": [
       "      reg_ts  uid\n",
       "0  911382223    1\n",
       "1  932683089    2\n",
       "2  947802447    3\n",
       "3  959523541    4\n",
       "4  969103313    5"
      ]
     },
     "execution_count": 3,
     "metadata": {},
     "output_type": "execute_result"
    }
   ],
   "source": [
    "reg_data.head(5) #данные о времени регистрации"
   ]
  },
  {
   "cell_type": "code",
   "execution_count": 4,
   "metadata": {},
   "outputs": [
    {
     "data": {
      "text/html": [
       "<div>\n",
       "<style scoped>\n",
       "    .dataframe tbody tr th:only-of-type {\n",
       "        vertical-align: middle;\n",
       "    }\n",
       "\n",
       "    .dataframe tbody tr th {\n",
       "        vertical-align: top;\n",
       "    }\n",
       "\n",
       "    .dataframe thead th {\n",
       "        text-align: right;\n",
       "    }\n",
       "</style>\n",
       "<table border=\"1\" class=\"dataframe\">\n",
       "  <thead>\n",
       "    <tr style=\"text-align: right;\">\n",
       "      <th></th>\n",
       "      <th>reg_ts</th>\n",
       "      <th>uid</th>\n",
       "    </tr>\n",
       "  </thead>\n",
       "  <tbody>\n",
       "    <tr>\n",
       "      <th>0</th>\n",
       "      <td>911382223</td>\n",
       "      <td>1</td>\n",
       "    </tr>\n",
       "    <tr>\n",
       "      <th>1</th>\n",
       "      <td>932683089</td>\n",
       "      <td>2</td>\n",
       "    </tr>\n",
       "    <tr>\n",
       "      <th>2</th>\n",
       "      <td>947802447</td>\n",
       "      <td>3</td>\n",
       "    </tr>\n",
       "    <tr>\n",
       "      <th>3</th>\n",
       "      <td>959523541</td>\n",
       "      <td>4</td>\n",
       "    </tr>\n",
       "    <tr>\n",
       "      <th>4</th>\n",
       "      <td>969103313</td>\n",
       "      <td>5</td>\n",
       "    </tr>\n",
       "    <tr>\n",
       "      <th>...</th>\n",
       "      <td>...</td>\n",
       "      <td>...</td>\n",
       "    </tr>\n",
       "    <tr>\n",
       "      <th>999995</th>\n",
       "      <td>1600874034</td>\n",
       "      <td>1110618</td>\n",
       "    </tr>\n",
       "    <tr>\n",
       "      <th>999996</th>\n",
       "      <td>1600874086</td>\n",
       "      <td>1110619</td>\n",
       "    </tr>\n",
       "    <tr>\n",
       "      <th>999997</th>\n",
       "      <td>1600874139</td>\n",
       "      <td>1110620</td>\n",
       "    </tr>\n",
       "    <tr>\n",
       "      <th>999998</th>\n",
       "      <td>1600874191</td>\n",
       "      <td>1110621</td>\n",
       "    </tr>\n",
       "    <tr>\n",
       "      <th>999999</th>\n",
       "      <td>1600874244</td>\n",
       "      <td>1110622</td>\n",
       "    </tr>\n",
       "  </tbody>\n",
       "</table>\n",
       "<p>1000000 rows × 2 columns</p>\n",
       "</div>"
      ],
      "text/plain": [
       "            reg_ts      uid\n",
       "0        911382223        1\n",
       "1        932683089        2\n",
       "2        947802447        3\n",
       "3        959523541        4\n",
       "4        969103313        5\n",
       "...            ...      ...\n",
       "999995  1600874034  1110618\n",
       "999996  1600874086  1110619\n",
       "999997  1600874139  1110620\n",
       "999998  1600874191  1110621\n",
       "999999  1600874244  1110622\n",
       "\n",
       "[1000000 rows x 2 columns]"
      ]
     },
     "execution_count": 4,
     "metadata": {},
     "output_type": "execute_result"
    }
   ],
   "source": [
    "reg_data"
   ]
  },
  {
   "cell_type": "code",
   "execution_count": null,
   "metadata": {},
   "outputs": [],
   "source": []
  },
  {
   "cell_type": "code",
   "execution_count": 5,
   "metadata": {},
   "outputs": [],
   "source": [
    "auth_data=pd.read_csv('/mnt/HC_Volume_18315164/home-jupyter/jupyter-m-tihonova/shared/problem1-auth_data.csv', sep=';')"
   ]
  },
  {
   "cell_type": "code",
   "execution_count": 6,
   "metadata": {},
   "outputs": [
    {
     "data": {
      "text/html": [
       "<div>\n",
       "<style scoped>\n",
       "    .dataframe tbody tr th:only-of-type {\n",
       "        vertical-align: middle;\n",
       "    }\n",
       "\n",
       "    .dataframe tbody tr th {\n",
       "        vertical-align: top;\n",
       "    }\n",
       "\n",
       "    .dataframe thead th {\n",
       "        text-align: right;\n",
       "    }\n",
       "</style>\n",
       "<table border=\"1\" class=\"dataframe\">\n",
       "  <thead>\n",
       "    <tr style=\"text-align: right;\">\n",
       "      <th></th>\n",
       "      <th>auth_ts</th>\n",
       "      <th>uid</th>\n",
       "    </tr>\n",
       "  </thead>\n",
       "  <tbody>\n",
       "    <tr>\n",
       "      <th>0</th>\n",
       "      <td>911382223</td>\n",
       "      <td>1</td>\n",
       "    </tr>\n",
       "    <tr>\n",
       "      <th>1</th>\n",
       "      <td>932683089</td>\n",
       "      <td>2</td>\n",
       "    </tr>\n",
       "    <tr>\n",
       "      <th>2</th>\n",
       "      <td>932921206</td>\n",
       "      <td>2</td>\n",
       "    </tr>\n",
       "    <tr>\n",
       "      <th>3</th>\n",
       "      <td>933393015</td>\n",
       "      <td>2</td>\n",
       "    </tr>\n",
       "    <tr>\n",
       "      <th>4</th>\n",
       "      <td>933875379</td>\n",
       "      <td>2</td>\n",
       "    </tr>\n",
       "  </tbody>\n",
       "</table>\n",
       "</div>"
      ],
      "text/plain": [
       "     auth_ts  uid\n",
       "0  911382223    1\n",
       "1  932683089    2\n",
       "2  932921206    2\n",
       "3  933393015    2\n",
       "4  933875379    2"
      ]
     },
     "execution_count": 6,
     "metadata": {},
     "output_type": "execute_result"
    }
   ],
   "source": [
    "auth_data.head(5) #данные о времени захода пользователей в игру"
   ]
  },
  {
   "cell_type": "code",
   "execution_count": 7,
   "metadata": {},
   "outputs": [
    {
     "data": {
      "text/plain": [
       "(9601013, 2)"
      ]
     },
     "execution_count": 7,
     "metadata": {},
     "output_type": "execute_result"
    }
   ],
   "source": [
    "auth_data.shape "
   ]
  },
  {
   "cell_type": "code",
   "execution_count": 8,
   "metadata": {},
   "outputs": [
    {
     "data": {
      "text/plain": [
       "(1000000, 2)"
      ]
     },
     "execution_count": 8,
     "metadata": {},
     "output_type": "execute_result"
    }
   ],
   "source": [
    "reg_data.shape"
   ]
  },
  {
   "cell_type": "code",
   "execution_count": 9,
   "metadata": {},
   "outputs": [
    {
     "data": {
      "text/plain": [
       "reg_ts    int64\n",
       "uid       int64\n",
       "dtype: object"
      ]
     },
     "execution_count": 9,
     "metadata": {},
     "output_type": "execute_result"
    }
   ],
   "source": [
    "reg_data.dtypes"
   ]
  },
  {
   "cell_type": "code",
   "execution_count": 10,
   "metadata": {},
   "outputs": [
    {
     "data": {
      "text/plain": [
       "auth_ts    int64\n",
       "uid        int64\n",
       "dtype: object"
      ]
     },
     "execution_count": 10,
     "metadata": {},
     "output_type": "execute_result"
    }
   ],
   "source": [
    "auth_data.dtypes"
   ]
  },
  {
   "cell_type": "code",
   "execution_count": 10,
   "metadata": {},
   "outputs": [],
   "source": [
    "#Видим, что тип данных int64, следовательно, в функции нужно учесть перевод во временной тип данные о времени"
   ]
  },
  {
   "cell_type": "code",
   "execution_count": 12,
   "metadata": {},
   "outputs": [],
   "source": [
    "reg_data['reg_ts'] = pd.to_datetime(reg_data['reg_ts'], unit='s').dt.normalize()\n",
    "auth_data['auth_ts'] = pd.to_datetime(auth_data['auth_ts'], unit='s').dt.normalize()"
   ]
  },
  {
   "cell_type": "code",
   "execution_count": null,
   "metadata": {},
   "outputs": [],
   "source": []
  },
  {
   "cell_type": "code",
   "execution_count": 13,
   "metadata": {},
   "outputs": [
    {
     "name": "stdout",
     "output_type": "stream",
     "text": [
      "<class 'pandas.core.frame.DataFrame'>\n",
      "RangeIndex: 1000000 entries, 0 to 999999\n",
      "Data columns (total 2 columns):\n",
      " #   Column  Non-Null Count    Dtype         \n",
      "---  ------  --------------    -----         \n",
      " 0   reg_ts  1000000 non-null  datetime64[ns]\n",
      " 1   uid     1000000 non-null  int64         \n",
      "dtypes: datetime64[ns](1), int64(1)\n",
      "memory usage: 15.3 MB\n"
     ]
    }
   ],
   "source": [
    "reg_data.info()"
   ]
  },
  {
   "cell_type": "code",
   "execution_count": 14,
   "metadata": {},
   "outputs": [
    {
     "name": "stdout",
     "output_type": "stream",
     "text": [
      "<class 'pandas.core.frame.DataFrame'>\n",
      "RangeIndex: 9601013 entries, 0 to 9601012\n",
      "Data columns (total 2 columns):\n",
      " #   Column   Dtype         \n",
      "---  ------   -----         \n",
      " 0   auth_ts  datetime64[ns]\n",
      " 1   uid      int64         \n",
      "dtypes: datetime64[ns](1), int64(1)\n",
      "memory usage: 146.5 MB\n"
     ]
    }
   ],
   "source": [
    "auth_data.info()"
   ]
  },
  {
   "cell_type": "code",
   "execution_count": 16,
   "metadata": {},
   "outputs": [
    {
     "data": {
      "text/plain": [
       "reg_ts    False\n",
       "uid       False\n",
       "dtype: bool"
      ]
     },
     "execution_count": 16,
     "metadata": {},
     "output_type": "execute_result"
    }
   ],
   "source": [
    "reg_data.isnull().any()"
   ]
  },
  {
   "cell_type": "code",
   "execution_count": 17,
   "metadata": {},
   "outputs": [
    {
     "data": {
      "text/plain": [
       "auth_ts    False\n",
       "uid        False\n",
       "dtype: bool"
      ]
     },
     "execution_count": 17,
     "metadata": {},
     "output_type": "execute_result"
    }
   ],
   "source": [
    "auth_data.isnull().any()"
   ]
  },
  {
   "cell_type": "code",
   "execution_count": 14,
   "metadata": {},
   "outputs": [],
   "source": [
    "#убедились в типе данных и проверили наличие нулевых значений - в дф нулевых значений нет"
   ]
  },
  {
   "cell_type": "code",
   "execution_count": 18,
   "metadata": {},
   "outputs": [
    {
     "data": {
      "text/plain": [
       "False"
      ]
     },
     "execution_count": 18,
     "metadata": {},
     "output_type": "execute_result"
    }
   ],
   "source": [
    "reg_data.duplicated().any()"
   ]
  },
  {
   "cell_type": "code",
   "execution_count": 19,
   "metadata": {},
   "outputs": [
    {
     "data": {
      "text/plain": [
       "False"
      ]
     },
     "execution_count": 19,
     "metadata": {},
     "output_type": "execute_result"
    }
   ],
   "source": [
    "auth_data.duplicated().any()"
   ]
  },
  {
   "cell_type": "code",
   "execution_count": null,
   "metadata": {},
   "outputs": [],
   "source": [
    "#проверили наличие дубликатов - нет"
   ]
  },
  {
   "cell_type": "code",
   "execution_count": 20,
   "metadata": {},
   "outputs": [],
   "source": [
    "first_day = reg_data['reg_ts'].max()\n",
    "last_dae = reg_data['reg_ts'].min()"
   ]
  },
  {
   "cell_type": "code",
   "execution_count": 21,
   "metadata": {},
   "outputs": [
    {
     "data": {
      "text/plain": [
       "Timestamp('2020-09-23 00:00:00')"
      ]
     },
     "execution_count": 21,
     "metadata": {},
     "output_type": "execute_result"
    }
   ],
   "source": [
    "first_day"
   ]
  },
  {
   "cell_type": "code",
   "execution_count": 22,
   "metadata": {},
   "outputs": [
    {
     "data": {
      "text/plain": [
       "Timestamp('1998-11-18 00:00:00')"
      ]
     },
     "execution_count": 22,
     "metadata": {},
     "output_type": "execute_result"
    }
   ],
   "source": [
    "last_dae"
   ]
  },
  {
   "cell_type": "code",
   "execution_count": null,
   "metadata": {},
   "outputs": [],
   "source": []
  },
  {
   "cell_type": "markdown",
   "metadata": {},
   "source": [
    "# ВЫВОД:\n",
    "1. Размер reg_data (1000000, 2), пустых значений нет, дубликатов нет\n",
    "2. Размер auth_data (9601013, 2), пустых значений нет, дубликатов нет\n",
    "3. Тип  данных int64, в функции нужно учесть перевод во временной тип данные о времени\n",
    "4. Посмотрели диапазон дат, на основании этого сможем выбрать период для расчета Retention"
   ]
  },
  {
   "cell_type": "markdown",
   "metadata": {},
   "source": [
    "# Задание 1\n",
    "Retention – один из самых важных показателей в компании. \n",
    "Ваша задача – написать функцию, которая будет считать retention игроков (по дням от даты регистрации игрока).\n"
   ]
  },
  {
   "cell_type": "code",
   "execution_count": 2,
   "metadata": {},
   "outputs": [],
   "source": [
    "reg = pd.read_csv('~/shared/problem1-reg_data.csv', sep = ';')\n",
    "auth = pd.read_csv('~/shared/problem1-auth_data.csv', sep = ';') \n",
    "#взяли новые переменные, чтобы для \"исходных\" данных писать функцию"
   ]
  },
  {
   "cell_type": "code",
   "execution_count": 3,
   "metadata": {},
   "outputs": [],
   "source": [
    "def retention(reg, auth, first_date, last_date):\n",
    "    \n",
    "    #переводим в нужный тип\n",
    "    reg['reg_ts'] = pd.to_datetime(reg['reg_ts'], unit='s').dt.normalize()\n",
    "    auth['auth_ts'] = pd.to_datetime(auth['auth_ts'], unit='s').dt.normalize()\n",
    "    \n",
    "    #объеденяем данные\n",
    "    full_df = pd.merge(reg, auth, on='uid')\n",
    "    \n",
    "    #определяю границы дат\n",
    "    first_date = pd.to_datetime(first_date)\n",
    "    last_date = pd.to_datetime(last_date)\n",
    "    \n",
    "    #берем корректные даты периода\n",
    "    full_df = full_df[(full_df['reg_ts'] >= first_date) & (full_df['auth_ts'] <= last_date)]\n",
    "\n",
    "    \n",
    "    #считаем разницу в днях между через сколько произошла авторизация после регистрации\n",
    "    full_df['days_retention'] = (full_df['auth_ts'] - full_df['reg_ts']).dt.days\n",
    "    \n",
    "    #расчет retention \n",
    "    cohort = full_df.groupby(['reg_ts', 'days_retention']).agg(users=('uid', 'nunique')).reset_index()\n",
    "    cohort['total_users'] = cohort.groupby('reg_ts')['users'].transform('first')\n",
    "    cohort['retention'] = cohort['users'] / cohort['total_users']\n",
    "    \n",
    "    #создание сводной таблицы\n",
    "    cohort_pivot = cohort.pivot_table(index='reg_ts', columns='days_retention', values='retention')\n",
    "    \n",
    "    #убираем нулевой период\n",
    "    cohort_pivot = cohort_pivot.drop(0, axis=1)\n",
    "    \n",
    "    #Блок визуализации\n",
    "    cohort_pivot.index = cohort_pivot.index.date\n",
    "    \n",
    "    # Устанавливаем размер графика\n",
    "    plt.figure(figsize=(12, 8)) \n",
    "    \n",
    "    ax = sns.heatmap(data = cohort_pivot, \n",
    "                     cmap = 'YlOrRd', \n",
    "                     annot = True, \n",
    "                     fmt = '.0%', \n",
    "                     cbar = True, \n",
    "                     linewidths = 0.5, \n",
    "                     square = True)\n",
    "    ax.set_title('Retention', fontsize = 15)\n",
    "    ax.set_ylabel('Дата регистрации')\n",
    "    ax.set_xlabel('Дней после регистрации')\n",
    "    return cohort_pivot\n"
   ]
  },
  {
   "cell_type": "code",
   "execution_count": null,
   "metadata": {},
   "outputs": [],
   "source": [
    "#рассчет Retention за сентябрь (с 1-23 сентября 2023 года) можно вставить любой инетресующий период"
   ]
  },
  {
   "cell_type": "code",
   "execution_count": 4,
   "metadata": {},
   "outputs": [
    {
     "data": {
      "text/html": [
       "<div>\n",
       "<style scoped>\n",
       "    .dataframe tbody tr th:only-of-type {\n",
       "        vertical-align: middle;\n",
       "    }\n",
       "\n",
       "    .dataframe tbody tr th {\n",
       "        vertical-align: top;\n",
       "    }\n",
       "\n",
       "    .dataframe thead th {\n",
       "        text-align: right;\n",
       "    }\n",
       "</style>\n",
       "<table border=\"1\" class=\"dataframe\">\n",
       "  <thead>\n",
       "    <tr style=\"text-align: right;\">\n",
       "      <th>days_retention</th>\n",
       "      <th>1</th>\n",
       "      <th>2</th>\n",
       "      <th>3</th>\n",
       "      <th>4</th>\n",
       "      <th>5</th>\n",
       "      <th>6</th>\n",
       "      <th>7</th>\n",
       "      <th>8</th>\n",
       "      <th>9</th>\n",
       "      <th>10</th>\n",
       "      <th>...</th>\n",
       "      <th>13</th>\n",
       "      <th>14</th>\n",
       "      <th>15</th>\n",
       "      <th>16</th>\n",
       "      <th>17</th>\n",
       "      <th>18</th>\n",
       "      <th>19</th>\n",
       "      <th>20</th>\n",
       "      <th>21</th>\n",
       "      <th>22</th>\n",
       "    </tr>\n",
       "  </thead>\n",
       "  <tbody>\n",
       "    <tr>\n",
       "      <th>2020-09-01</th>\n",
       "      <td>0.020177</td>\n",
       "      <td>0.040984</td>\n",
       "      <td>0.042245</td>\n",
       "      <td>0.046028</td>\n",
       "      <td>0.064313</td>\n",
       "      <td>0.056116</td>\n",
       "      <td>0.064313</td>\n",
       "      <td>0.040984</td>\n",
       "      <td>0.054224</td>\n",
       "      <td>0.051072</td>\n",
       "      <td>...</td>\n",
       "      <td>0.054855</td>\n",
       "      <td>0.042875</td>\n",
       "      <td>0.044136</td>\n",
       "      <td>0.043506</td>\n",
       "      <td>0.050441</td>\n",
       "      <td>0.041614</td>\n",
       "      <td>0.043506</td>\n",
       "      <td>0.035939</td>\n",
       "      <td>0.043506</td>\n",
       "      <td>0.015763</td>\n",
       "    </tr>\n",
       "    <tr>\n",
       "      <th>2020-09-02</th>\n",
       "      <td>0.025189</td>\n",
       "      <td>0.039043</td>\n",
       "      <td>0.046599</td>\n",
       "      <td>0.056675</td>\n",
       "      <td>0.062343</td>\n",
       "      <td>0.071159</td>\n",
       "      <td>0.062972</td>\n",
       "      <td>0.048489</td>\n",
       "      <td>0.040932</td>\n",
       "      <td>0.056675</td>\n",
       "      <td>...</td>\n",
       "      <td>0.043451</td>\n",
       "      <td>0.049748</td>\n",
       "      <td>0.052897</td>\n",
       "      <td>0.041562</td>\n",
       "      <td>0.048489</td>\n",
       "      <td>0.039043</td>\n",
       "      <td>0.037154</td>\n",
       "      <td>0.046599</td>\n",
       "      <td>0.026448</td>\n",
       "      <td>NaN</td>\n",
       "    </tr>\n",
       "    <tr>\n",
       "      <th>2020-09-03</th>\n",
       "      <td>0.023256</td>\n",
       "      <td>0.054054</td>\n",
       "      <td>0.047140</td>\n",
       "      <td>0.065368</td>\n",
       "      <td>0.069767</td>\n",
       "      <td>0.085481</td>\n",
       "      <td>0.063482</td>\n",
       "      <td>0.054683</td>\n",
       "      <td>0.062854</td>\n",
       "      <td>0.063482</td>\n",
       "      <td>...</td>\n",
       "      <td>0.059711</td>\n",
       "      <td>0.054683</td>\n",
       "      <td>0.053426</td>\n",
       "      <td>0.043997</td>\n",
       "      <td>0.048397</td>\n",
       "      <td>0.046512</td>\n",
       "      <td>0.054683</td>\n",
       "      <td>0.023884</td>\n",
       "      <td>NaN</td>\n",
       "      <td>NaN</td>\n",
       "    </tr>\n",
       "    <tr>\n",
       "      <th>2020-09-04</th>\n",
       "      <td>0.020088</td>\n",
       "      <td>0.036409</td>\n",
       "      <td>0.036409</td>\n",
       "      <td>0.051475</td>\n",
       "      <td>0.064030</td>\n",
       "      <td>0.072819</td>\n",
       "      <td>0.049592</td>\n",
       "      <td>0.053358</td>\n",
       "      <td>0.043315</td>\n",
       "      <td>0.056497</td>\n",
       "      <td>...</td>\n",
       "      <td>0.055869</td>\n",
       "      <td>0.043942</td>\n",
       "      <td>0.045198</td>\n",
       "      <td>0.045198</td>\n",
       "      <td>0.042687</td>\n",
       "      <td>0.047709</td>\n",
       "      <td>0.026365</td>\n",
       "      <td>NaN</td>\n",
       "      <td>NaN</td>\n",
       "      <td>NaN</td>\n",
       "    </tr>\n",
       "    <tr>\n",
       "      <th>2020-09-05</th>\n",
       "      <td>0.027569</td>\n",
       "      <td>0.039474</td>\n",
       "      <td>0.046366</td>\n",
       "      <td>0.054511</td>\n",
       "      <td>0.058897</td>\n",
       "      <td>0.074561</td>\n",
       "      <td>0.048872</td>\n",
       "      <td>0.050752</td>\n",
       "      <td>0.054511</td>\n",
       "      <td>0.060150</td>\n",
       "      <td>...</td>\n",
       "      <td>0.053885</td>\n",
       "      <td>0.045113</td>\n",
       "      <td>0.051378</td>\n",
       "      <td>0.044486</td>\n",
       "      <td>0.047619</td>\n",
       "      <td>0.025063</td>\n",
       "      <td>NaN</td>\n",
       "      <td>NaN</td>\n",
       "      <td>NaN</td>\n",
       "      <td>NaN</td>\n",
       "    </tr>\n",
       "    <tr>\n",
       "      <th>2020-09-06</th>\n",
       "      <td>0.031270</td>\n",
       "      <td>0.043152</td>\n",
       "      <td>0.054409</td>\n",
       "      <td>0.056285</td>\n",
       "      <td>0.058787</td>\n",
       "      <td>0.068168</td>\n",
       "      <td>0.060663</td>\n",
       "      <td>0.058161</td>\n",
       "      <td>0.055034</td>\n",
       "      <td>0.048780</td>\n",
       "      <td>...</td>\n",
       "      <td>0.051907</td>\n",
       "      <td>0.055034</td>\n",
       "      <td>0.045654</td>\n",
       "      <td>0.048155</td>\n",
       "      <td>0.025641</td>\n",
       "      <td>NaN</td>\n",
       "      <td>NaN</td>\n",
       "      <td>NaN</td>\n",
       "      <td>NaN</td>\n",
       "      <td>NaN</td>\n",
       "    </tr>\n",
       "    <tr>\n",
       "      <th>2020-09-07</th>\n",
       "      <td>0.029357</td>\n",
       "      <td>0.042473</td>\n",
       "      <td>0.053716</td>\n",
       "      <td>0.050593</td>\n",
       "      <td>0.063710</td>\n",
       "      <td>0.073079</td>\n",
       "      <td>0.052467</td>\n",
       "      <td>0.041224</td>\n",
       "      <td>0.056215</td>\n",
       "      <td>0.059963</td>\n",
       "      <td>...</td>\n",
       "      <td>0.050593</td>\n",
       "      <td>0.042473</td>\n",
       "      <td>0.050593</td>\n",
       "      <td>0.033729</td>\n",
       "      <td>NaN</td>\n",
       "      <td>NaN</td>\n",
       "      <td>NaN</td>\n",
       "      <td>NaN</td>\n",
       "      <td>NaN</td>\n",
       "      <td>NaN</td>\n",
       "    </tr>\n",
       "    <tr>\n",
       "      <th>2020-09-08</th>\n",
       "      <td>0.017456</td>\n",
       "      <td>0.039277</td>\n",
       "      <td>0.039277</td>\n",
       "      <td>0.048628</td>\n",
       "      <td>0.076060</td>\n",
       "      <td>0.075436</td>\n",
       "      <td>0.066085</td>\n",
       "      <td>0.051746</td>\n",
       "      <td>0.051746</td>\n",
       "      <td>0.065461</td>\n",
       "      <td>...</td>\n",
       "      <td>0.051746</td>\n",
       "      <td>0.047382</td>\n",
       "      <td>0.030549</td>\n",
       "      <td>NaN</td>\n",
       "      <td>NaN</td>\n",
       "      <td>NaN</td>\n",
       "      <td>NaN</td>\n",
       "      <td>NaN</td>\n",
       "      <td>NaN</td>\n",
       "      <td>NaN</td>\n",
       "    </tr>\n",
       "    <tr>\n",
       "      <th>2020-09-09</th>\n",
       "      <td>0.017424</td>\n",
       "      <td>0.032358</td>\n",
       "      <td>0.046671</td>\n",
       "      <td>0.057250</td>\n",
       "      <td>0.066584</td>\n",
       "      <td>0.057250</td>\n",
       "      <td>0.059116</td>\n",
       "      <td>0.043559</td>\n",
       "      <td>0.050404</td>\n",
       "      <td>0.037337</td>\n",
       "      <td>...</td>\n",
       "      <td>0.048538</td>\n",
       "      <td>0.024269</td>\n",
       "      <td>NaN</td>\n",
       "      <td>NaN</td>\n",
       "      <td>NaN</td>\n",
       "      <td>NaN</td>\n",
       "      <td>NaN</td>\n",
       "      <td>NaN</td>\n",
       "      <td>NaN</td>\n",
       "      <td>NaN</td>\n",
       "    </tr>\n",
       "    <tr>\n",
       "      <th>2020-09-10</th>\n",
       "      <td>0.020510</td>\n",
       "      <td>0.042884</td>\n",
       "      <td>0.047856</td>\n",
       "      <td>0.042262</td>\n",
       "      <td>0.067744</td>\n",
       "      <td>0.062772</td>\n",
       "      <td>0.070851</td>\n",
       "      <td>0.048477</td>\n",
       "      <td>0.045370</td>\n",
       "      <td>0.056557</td>\n",
       "      <td>...</td>\n",
       "      <td>0.036047</td>\n",
       "      <td>NaN</td>\n",
       "      <td>NaN</td>\n",
       "      <td>NaN</td>\n",
       "      <td>NaN</td>\n",
       "      <td>NaN</td>\n",
       "      <td>NaN</td>\n",
       "      <td>NaN</td>\n",
       "      <td>NaN</td>\n",
       "      <td>NaN</td>\n",
       "    </tr>\n",
       "    <tr>\n",
       "      <th>2020-09-11</th>\n",
       "      <td>0.013027</td>\n",
       "      <td>0.040323</td>\n",
       "      <td>0.045285</td>\n",
       "      <td>0.056452</td>\n",
       "      <td>0.057072</td>\n",
       "      <td>0.066998</td>\n",
       "      <td>0.063275</td>\n",
       "      <td>0.044045</td>\n",
       "      <td>0.046526</td>\n",
       "      <td>0.053970</td>\n",
       "      <td>...</td>\n",
       "      <td>NaN</td>\n",
       "      <td>NaN</td>\n",
       "      <td>NaN</td>\n",
       "      <td>NaN</td>\n",
       "      <td>NaN</td>\n",
       "      <td>NaN</td>\n",
       "      <td>NaN</td>\n",
       "      <td>NaN</td>\n",
       "      <td>NaN</td>\n",
       "      <td>NaN</td>\n",
       "    </tr>\n",
       "    <tr>\n",
       "      <th>2020-09-12</th>\n",
       "      <td>0.019207</td>\n",
       "      <td>0.038414</td>\n",
       "      <td>0.047088</td>\n",
       "      <td>0.046468</td>\n",
       "      <td>0.060719</td>\n",
       "      <td>0.065675</td>\n",
       "      <td>0.057621</td>\n",
       "      <td>0.052664</td>\n",
       "      <td>0.051425</td>\n",
       "      <td>0.057001</td>\n",
       "      <td>...</td>\n",
       "      <td>NaN</td>\n",
       "      <td>NaN</td>\n",
       "      <td>NaN</td>\n",
       "      <td>NaN</td>\n",
       "      <td>NaN</td>\n",
       "      <td>NaN</td>\n",
       "      <td>NaN</td>\n",
       "      <td>NaN</td>\n",
       "      <td>NaN</td>\n",
       "      <td>NaN</td>\n",
       "    </tr>\n",
       "    <tr>\n",
       "      <th>2020-09-13</th>\n",
       "      <td>0.019778</td>\n",
       "      <td>0.040791</td>\n",
       "      <td>0.042645</td>\n",
       "      <td>0.051298</td>\n",
       "      <td>0.065513</td>\n",
       "      <td>0.064895</td>\n",
       "      <td>0.049444</td>\n",
       "      <td>0.046972</td>\n",
       "      <td>0.049444</td>\n",
       "      <td>0.035847</td>\n",
       "      <td>...</td>\n",
       "      <td>NaN</td>\n",
       "      <td>NaN</td>\n",
       "      <td>NaN</td>\n",
       "      <td>NaN</td>\n",
       "      <td>NaN</td>\n",
       "      <td>NaN</td>\n",
       "      <td>NaN</td>\n",
       "      <td>NaN</td>\n",
       "      <td>NaN</td>\n",
       "      <td>NaN</td>\n",
       "    </tr>\n",
       "    <tr>\n",
       "      <th>2020-09-14</th>\n",
       "      <td>0.022236</td>\n",
       "      <td>0.038295</td>\n",
       "      <td>0.045090</td>\n",
       "      <td>0.053119</td>\n",
       "      <td>0.064855</td>\n",
       "      <td>0.069796</td>\n",
       "      <td>0.063002</td>\n",
       "      <td>0.044472</td>\n",
       "      <td>0.029030</td>\n",
       "      <td>NaN</td>\n",
       "      <td>...</td>\n",
       "      <td>NaN</td>\n",
       "      <td>NaN</td>\n",
       "      <td>NaN</td>\n",
       "      <td>NaN</td>\n",
       "      <td>NaN</td>\n",
       "      <td>NaN</td>\n",
       "      <td>NaN</td>\n",
       "      <td>NaN</td>\n",
       "      <td>NaN</td>\n",
       "      <td>NaN</td>\n",
       "    </tr>\n",
       "    <tr>\n",
       "      <th>2020-09-15</th>\n",
       "      <td>0.022181</td>\n",
       "      <td>0.040665</td>\n",
       "      <td>0.045595</td>\n",
       "      <td>0.060382</td>\n",
       "      <td>0.056069</td>\n",
       "      <td>0.069008</td>\n",
       "      <td>0.056685</td>\n",
       "      <td>0.024646</td>\n",
       "      <td>NaN</td>\n",
       "      <td>NaN</td>\n",
       "      <td>...</td>\n",
       "      <td>NaN</td>\n",
       "      <td>NaN</td>\n",
       "      <td>NaN</td>\n",
       "      <td>NaN</td>\n",
       "      <td>NaN</td>\n",
       "      <td>NaN</td>\n",
       "      <td>NaN</td>\n",
       "      <td>NaN</td>\n",
       "      <td>NaN</td>\n",
       "      <td>NaN</td>\n",
       "    </tr>\n",
       "    <tr>\n",
       "      <th>2020-09-16</th>\n",
       "      <td>0.019077</td>\n",
       "      <td>0.042462</td>\n",
       "      <td>0.046154</td>\n",
       "      <td>0.046769</td>\n",
       "      <td>0.067692</td>\n",
       "      <td>0.069538</td>\n",
       "      <td>0.033846</td>\n",
       "      <td>NaN</td>\n",
       "      <td>NaN</td>\n",
       "      <td>NaN</td>\n",
       "      <td>...</td>\n",
       "      <td>NaN</td>\n",
       "      <td>NaN</td>\n",
       "      <td>NaN</td>\n",
       "      <td>NaN</td>\n",
       "      <td>NaN</td>\n",
       "      <td>NaN</td>\n",
       "      <td>NaN</td>\n",
       "      <td>NaN</td>\n",
       "      <td>NaN</td>\n",
       "      <td>NaN</td>\n",
       "    </tr>\n",
       "    <tr>\n",
       "      <th>2020-09-17</th>\n",
       "      <td>0.016585</td>\n",
       "      <td>0.042998</td>\n",
       "      <td>0.045455</td>\n",
       "      <td>0.054668</td>\n",
       "      <td>0.062654</td>\n",
       "      <td>0.042383</td>\n",
       "      <td>NaN</td>\n",
       "      <td>NaN</td>\n",
       "      <td>NaN</td>\n",
       "      <td>NaN</td>\n",
       "      <td>...</td>\n",
       "      <td>NaN</td>\n",
       "      <td>NaN</td>\n",
       "      <td>NaN</td>\n",
       "      <td>NaN</td>\n",
       "      <td>NaN</td>\n",
       "      <td>NaN</td>\n",
       "      <td>NaN</td>\n",
       "      <td>NaN</td>\n",
       "      <td>NaN</td>\n",
       "      <td>NaN</td>\n",
       "    </tr>\n",
       "    <tr>\n",
       "      <th>2020-09-18</th>\n",
       "      <td>0.019018</td>\n",
       "      <td>0.045399</td>\n",
       "      <td>0.042331</td>\n",
       "      <td>0.052147</td>\n",
       "      <td>0.037423</td>\n",
       "      <td>NaN</td>\n",
       "      <td>NaN</td>\n",
       "      <td>NaN</td>\n",
       "      <td>NaN</td>\n",
       "      <td>NaN</td>\n",
       "      <td>...</td>\n",
       "      <td>NaN</td>\n",
       "      <td>NaN</td>\n",
       "      <td>NaN</td>\n",
       "      <td>NaN</td>\n",
       "      <td>NaN</td>\n",
       "      <td>NaN</td>\n",
       "      <td>NaN</td>\n",
       "      <td>NaN</td>\n",
       "      <td>NaN</td>\n",
       "      <td>NaN</td>\n",
       "    </tr>\n",
       "    <tr>\n",
       "      <th>2020-09-19</th>\n",
       "      <td>0.018360</td>\n",
       "      <td>0.035496</td>\n",
       "      <td>0.047124</td>\n",
       "      <td>0.034884</td>\n",
       "      <td>NaN</td>\n",
       "      <td>NaN</td>\n",
       "      <td>NaN</td>\n",
       "      <td>NaN</td>\n",
       "      <td>NaN</td>\n",
       "      <td>NaN</td>\n",
       "      <td>...</td>\n",
       "      <td>NaN</td>\n",
       "      <td>NaN</td>\n",
       "      <td>NaN</td>\n",
       "      <td>NaN</td>\n",
       "      <td>NaN</td>\n",
       "      <td>NaN</td>\n",
       "      <td>NaN</td>\n",
       "      <td>NaN</td>\n",
       "      <td>NaN</td>\n",
       "      <td>NaN</td>\n",
       "    </tr>\n",
       "    <tr>\n",
       "      <th>2020-09-20</th>\n",
       "      <td>0.024450</td>\n",
       "      <td>0.043399</td>\n",
       "      <td>0.023839</td>\n",
       "      <td>NaN</td>\n",
       "      <td>NaN</td>\n",
       "      <td>NaN</td>\n",
       "      <td>NaN</td>\n",
       "      <td>NaN</td>\n",
       "      <td>NaN</td>\n",
       "      <td>NaN</td>\n",
       "      <td>...</td>\n",
       "      <td>NaN</td>\n",
       "      <td>NaN</td>\n",
       "      <td>NaN</td>\n",
       "      <td>NaN</td>\n",
       "      <td>NaN</td>\n",
       "      <td>NaN</td>\n",
       "      <td>NaN</td>\n",
       "      <td>NaN</td>\n",
       "      <td>NaN</td>\n",
       "      <td>NaN</td>\n",
       "    </tr>\n",
       "    <tr>\n",
       "      <th>2020-09-21</th>\n",
       "      <td>0.018926</td>\n",
       "      <td>0.029915</td>\n",
       "      <td>NaN</td>\n",
       "      <td>NaN</td>\n",
       "      <td>NaN</td>\n",
       "      <td>NaN</td>\n",
       "      <td>NaN</td>\n",
       "      <td>NaN</td>\n",
       "      <td>NaN</td>\n",
       "      <td>NaN</td>\n",
       "      <td>...</td>\n",
       "      <td>NaN</td>\n",
       "      <td>NaN</td>\n",
       "      <td>NaN</td>\n",
       "      <td>NaN</td>\n",
       "      <td>NaN</td>\n",
       "      <td>NaN</td>\n",
       "      <td>NaN</td>\n",
       "      <td>NaN</td>\n",
       "      <td>NaN</td>\n",
       "      <td>NaN</td>\n",
       "    </tr>\n",
       "    <tr>\n",
       "      <th>2020-09-22</th>\n",
       "      <td>0.008531</td>\n",
       "      <td>NaN</td>\n",
       "      <td>NaN</td>\n",
       "      <td>NaN</td>\n",
       "      <td>NaN</td>\n",
       "      <td>NaN</td>\n",
       "      <td>NaN</td>\n",
       "      <td>NaN</td>\n",
       "      <td>NaN</td>\n",
       "      <td>NaN</td>\n",
       "      <td>...</td>\n",
       "      <td>NaN</td>\n",
       "      <td>NaN</td>\n",
       "      <td>NaN</td>\n",
       "      <td>NaN</td>\n",
       "      <td>NaN</td>\n",
       "      <td>NaN</td>\n",
       "      <td>NaN</td>\n",
       "      <td>NaN</td>\n",
       "      <td>NaN</td>\n",
       "      <td>NaN</td>\n",
       "    </tr>\n",
       "    <tr>\n",
       "      <th>2020-09-23</th>\n",
       "      <td>NaN</td>\n",
       "      <td>NaN</td>\n",
       "      <td>NaN</td>\n",
       "      <td>NaN</td>\n",
       "      <td>NaN</td>\n",
       "      <td>NaN</td>\n",
       "      <td>NaN</td>\n",
       "      <td>NaN</td>\n",
       "      <td>NaN</td>\n",
       "      <td>NaN</td>\n",
       "      <td>...</td>\n",
       "      <td>NaN</td>\n",
       "      <td>NaN</td>\n",
       "      <td>NaN</td>\n",
       "      <td>NaN</td>\n",
       "      <td>NaN</td>\n",
       "      <td>NaN</td>\n",
       "      <td>NaN</td>\n",
       "      <td>NaN</td>\n",
       "      <td>NaN</td>\n",
       "      <td>NaN</td>\n",
       "    </tr>\n",
       "  </tbody>\n",
       "</table>\n",
       "<p>23 rows × 22 columns</p>\n",
       "</div>"
      ],
      "text/plain": [
       "days_retention        1         2         3         4         5         6   \\\n",
       "2020-09-01      0.020177  0.040984  0.042245  0.046028  0.064313  0.056116   \n",
       "2020-09-02      0.025189  0.039043  0.046599  0.056675  0.062343  0.071159   \n",
       "2020-09-03      0.023256  0.054054  0.047140  0.065368  0.069767  0.085481   \n",
       "2020-09-04      0.020088  0.036409  0.036409  0.051475  0.064030  0.072819   \n",
       "2020-09-05      0.027569  0.039474  0.046366  0.054511  0.058897  0.074561   \n",
       "2020-09-06      0.031270  0.043152  0.054409  0.056285  0.058787  0.068168   \n",
       "2020-09-07      0.029357  0.042473  0.053716  0.050593  0.063710  0.073079   \n",
       "2020-09-08      0.017456  0.039277  0.039277  0.048628  0.076060  0.075436   \n",
       "2020-09-09      0.017424  0.032358  0.046671  0.057250  0.066584  0.057250   \n",
       "2020-09-10      0.020510  0.042884  0.047856  0.042262  0.067744  0.062772   \n",
       "2020-09-11      0.013027  0.040323  0.045285  0.056452  0.057072  0.066998   \n",
       "2020-09-12      0.019207  0.038414  0.047088  0.046468  0.060719  0.065675   \n",
       "2020-09-13      0.019778  0.040791  0.042645  0.051298  0.065513  0.064895   \n",
       "2020-09-14      0.022236  0.038295  0.045090  0.053119  0.064855  0.069796   \n",
       "2020-09-15      0.022181  0.040665  0.045595  0.060382  0.056069  0.069008   \n",
       "2020-09-16      0.019077  0.042462  0.046154  0.046769  0.067692  0.069538   \n",
       "2020-09-17      0.016585  0.042998  0.045455  0.054668  0.062654  0.042383   \n",
       "2020-09-18      0.019018  0.045399  0.042331  0.052147  0.037423       NaN   \n",
       "2020-09-19      0.018360  0.035496  0.047124  0.034884       NaN       NaN   \n",
       "2020-09-20      0.024450  0.043399  0.023839       NaN       NaN       NaN   \n",
       "2020-09-21      0.018926  0.029915       NaN       NaN       NaN       NaN   \n",
       "2020-09-22      0.008531       NaN       NaN       NaN       NaN       NaN   \n",
       "2020-09-23           NaN       NaN       NaN       NaN       NaN       NaN   \n",
       "\n",
       "days_retention        7         8         9         10  ...        13  \\\n",
       "2020-09-01      0.064313  0.040984  0.054224  0.051072  ...  0.054855   \n",
       "2020-09-02      0.062972  0.048489  0.040932  0.056675  ...  0.043451   \n",
       "2020-09-03      0.063482  0.054683  0.062854  0.063482  ...  0.059711   \n",
       "2020-09-04      0.049592  0.053358  0.043315  0.056497  ...  0.055869   \n",
       "2020-09-05      0.048872  0.050752  0.054511  0.060150  ...  0.053885   \n",
       "2020-09-06      0.060663  0.058161  0.055034  0.048780  ...  0.051907   \n",
       "2020-09-07      0.052467  0.041224  0.056215  0.059963  ...  0.050593   \n",
       "2020-09-08      0.066085  0.051746  0.051746  0.065461  ...  0.051746   \n",
       "2020-09-09      0.059116  0.043559  0.050404  0.037337  ...  0.048538   \n",
       "2020-09-10      0.070851  0.048477  0.045370  0.056557  ...  0.036047   \n",
       "2020-09-11      0.063275  0.044045  0.046526  0.053970  ...       NaN   \n",
       "2020-09-12      0.057621  0.052664  0.051425  0.057001  ...       NaN   \n",
       "2020-09-13      0.049444  0.046972  0.049444  0.035847  ...       NaN   \n",
       "2020-09-14      0.063002  0.044472  0.029030       NaN  ...       NaN   \n",
       "2020-09-15      0.056685  0.024646       NaN       NaN  ...       NaN   \n",
       "2020-09-16      0.033846       NaN       NaN       NaN  ...       NaN   \n",
       "2020-09-17           NaN       NaN       NaN       NaN  ...       NaN   \n",
       "2020-09-18           NaN       NaN       NaN       NaN  ...       NaN   \n",
       "2020-09-19           NaN       NaN       NaN       NaN  ...       NaN   \n",
       "2020-09-20           NaN       NaN       NaN       NaN  ...       NaN   \n",
       "2020-09-21           NaN       NaN       NaN       NaN  ...       NaN   \n",
       "2020-09-22           NaN       NaN       NaN       NaN  ...       NaN   \n",
       "2020-09-23           NaN       NaN       NaN       NaN  ...       NaN   \n",
       "\n",
       "days_retention        14        15        16        17        18        19  \\\n",
       "2020-09-01      0.042875  0.044136  0.043506  0.050441  0.041614  0.043506   \n",
       "2020-09-02      0.049748  0.052897  0.041562  0.048489  0.039043  0.037154   \n",
       "2020-09-03      0.054683  0.053426  0.043997  0.048397  0.046512  0.054683   \n",
       "2020-09-04      0.043942  0.045198  0.045198  0.042687  0.047709  0.026365   \n",
       "2020-09-05      0.045113  0.051378  0.044486  0.047619  0.025063       NaN   \n",
       "2020-09-06      0.055034  0.045654  0.048155  0.025641       NaN       NaN   \n",
       "2020-09-07      0.042473  0.050593  0.033729       NaN       NaN       NaN   \n",
       "2020-09-08      0.047382  0.030549       NaN       NaN       NaN       NaN   \n",
       "2020-09-09      0.024269       NaN       NaN       NaN       NaN       NaN   \n",
       "2020-09-10           NaN       NaN       NaN       NaN       NaN       NaN   \n",
       "2020-09-11           NaN       NaN       NaN       NaN       NaN       NaN   \n",
       "2020-09-12           NaN       NaN       NaN       NaN       NaN       NaN   \n",
       "2020-09-13           NaN       NaN       NaN       NaN       NaN       NaN   \n",
       "2020-09-14           NaN       NaN       NaN       NaN       NaN       NaN   \n",
       "2020-09-15           NaN       NaN       NaN       NaN       NaN       NaN   \n",
       "2020-09-16           NaN       NaN       NaN       NaN       NaN       NaN   \n",
       "2020-09-17           NaN       NaN       NaN       NaN       NaN       NaN   \n",
       "2020-09-18           NaN       NaN       NaN       NaN       NaN       NaN   \n",
       "2020-09-19           NaN       NaN       NaN       NaN       NaN       NaN   \n",
       "2020-09-20           NaN       NaN       NaN       NaN       NaN       NaN   \n",
       "2020-09-21           NaN       NaN       NaN       NaN       NaN       NaN   \n",
       "2020-09-22           NaN       NaN       NaN       NaN       NaN       NaN   \n",
       "2020-09-23           NaN       NaN       NaN       NaN       NaN       NaN   \n",
       "\n",
       "days_retention        20        21        22  \n",
       "2020-09-01      0.035939  0.043506  0.015763  \n",
       "2020-09-02      0.046599  0.026448       NaN  \n",
       "2020-09-03      0.023884       NaN       NaN  \n",
       "2020-09-04           NaN       NaN       NaN  \n",
       "2020-09-05           NaN       NaN       NaN  \n",
       "2020-09-06           NaN       NaN       NaN  \n",
       "2020-09-07           NaN       NaN       NaN  \n",
       "2020-09-08           NaN       NaN       NaN  \n",
       "2020-09-09           NaN       NaN       NaN  \n",
       "2020-09-10           NaN       NaN       NaN  \n",
       "2020-09-11           NaN       NaN       NaN  \n",
       "2020-09-12           NaN       NaN       NaN  \n",
       "2020-09-13           NaN       NaN       NaN  \n",
       "2020-09-14           NaN       NaN       NaN  \n",
       "2020-09-15           NaN       NaN       NaN  \n",
       "2020-09-16           NaN       NaN       NaN  \n",
       "2020-09-17           NaN       NaN       NaN  \n",
       "2020-09-18           NaN       NaN       NaN  \n",
       "2020-09-19           NaN       NaN       NaN  \n",
       "2020-09-20           NaN       NaN       NaN  \n",
       "2020-09-21           NaN       NaN       NaN  \n",
       "2020-09-22           NaN       NaN       NaN  \n",
       "2020-09-23           NaN       NaN       NaN  \n",
       "\n",
       "[23 rows x 22 columns]"
      ]
     },
     "execution_count": 4,
     "metadata": {},
     "output_type": "execute_result"
    },
    {
     "data": {
      "image/png": "[encoded data removed]",
      "text/plain": [
       "<Figure size 864x576 with 2 Axes>"
      ]
     },
     "metadata": {
      "needs_background": "light"
     },
     "output_type": "display_data"
    }
   ],
   "source": [
    "retention(reg, auth,'2020-09-01', '2020-09-23' ) "
   ]
  },
  {
   "cell_type": "markdown",
   "metadata": {},
   "source": [
    "# Задание 2\n",
    "Имеются результаты A/B теста, в котором двум группам пользователей предлагались различные наборы акционных предложений. Известно, что ARPU в тестовой группе выше на 5%, чем в контрольной. При этом в контрольной группе 1928 игроков из 202103 оказались платящими, а в тестовой – 1805 из 202667.\n",
    "\n",
    "Какой набор предложений можно считать лучшим? Какие метрики стоит проанализировать для принятия правильного решения и как?"
   ]
  },
  {
   "cell_type": "markdown",
   "metadata": {},
   "source": [
    "# Первичный анализ данных"
   ]
  },
  {
   "cell_type": "code",
   "execution_count": 4,
   "metadata": {},
   "outputs": [],
   "source": [
    "data = pd.read_csv('/mnt/HC_Volume_18315164/home-jupyter/jupyter-m-tihonova/FINAL/Проект_1_Задание_2.csv', sep = ';')"
   ]
  },
  {
   "cell_type": "code",
   "execution_count": 14,
   "metadata": {},
   "outputs": [
    {
     "data": {
      "text/html": [
       "<div>\n",
       "<style scoped>\n",
       "    .dataframe tbody tr th:only-of-type {\n",
       "        vertical-align: middle;\n",
       "    }\n",
       "\n",
       "    .dataframe tbody tr th {\n",
       "        vertical-align: top;\n",
       "    }\n",
       "\n",
       "    .dataframe thead th {\n",
       "        text-align: right;\n",
       "    }\n",
       "</style>\n",
       "<table border=\"1\" class=\"dataframe\">\n",
       "  <thead>\n",
       "    <tr style=\"text-align: right;\">\n",
       "      <th></th>\n",
       "      <th>user_id</th>\n",
       "      <th>revenue</th>\n",
       "      <th>testgroup</th>\n",
       "    </tr>\n",
       "  </thead>\n",
       "  <tbody>\n",
       "    <tr>\n",
       "      <th>0</th>\n",
       "      <td>1</td>\n",
       "      <td>0</td>\n",
       "      <td>b</td>\n",
       "    </tr>\n",
       "    <tr>\n",
       "      <th>1</th>\n",
       "      <td>2</td>\n",
       "      <td>0</td>\n",
       "      <td>a</td>\n",
       "    </tr>\n",
       "    <tr>\n",
       "      <th>2</th>\n",
       "      <td>3</td>\n",
       "      <td>0</td>\n",
       "      <td>a</td>\n",
       "    </tr>\n",
       "    <tr>\n",
       "      <th>3</th>\n",
       "      <td>4</td>\n",
       "      <td>0</td>\n",
       "      <td>b</td>\n",
       "    </tr>\n",
       "    <tr>\n",
       "      <th>4</th>\n",
       "      <td>5</td>\n",
       "      <td>0</td>\n",
       "      <td>b</td>\n",
       "    </tr>\n",
       "  </tbody>\n",
       "</table>\n",
       "</div>"
      ],
      "text/plain": [
       "   user_id  revenue testgroup\n",
       "0        1        0         b\n",
       "1        2        0         a\n",
       "2        3        0         a\n",
       "3        4        0         b\n",
       "4        5        0         b"
      ]
     },
     "execution_count": 14,
     "metadata": {},
     "output_type": "execute_result"
    }
   ],
   "source": [
    "data.head(5)"
   ]
  },
  {
   "cell_type": "code",
   "execution_count": 16,
   "metadata": {},
   "outputs": [
    {
     "data": {
      "text/plain": [
       "(404770, 3)"
      ]
     },
     "execution_count": 16,
     "metadata": {},
     "output_type": "execute_result"
    }
   ],
   "source": [
    "data.shape"
   ]
  },
  {
   "cell_type": "code",
   "execution_count": 17,
   "metadata": {},
   "outputs": [
    {
     "data": {
      "text/plain": [
       "user_id       int64\n",
       "revenue       int64\n",
       "testgroup    object\n",
       "dtype: object"
      ]
     },
     "execution_count": 17,
     "metadata": {},
     "output_type": "execute_result"
    }
   ],
   "source": [
    "data.dtypes"
   ]
  },
  {
   "cell_type": "code",
   "execution_count": 19,
   "metadata": {},
   "outputs": [
    {
     "name": "stdout",
     "output_type": "stream",
     "text": [
      "<class 'pandas.core.frame.DataFrame'>\n",
      "RangeIndex: 404770 entries, 0 to 404769\n",
      "Data columns (total 3 columns):\n",
      " #   Column     Non-Null Count   Dtype \n",
      "---  ------     --------------   ----- \n",
      " 0   user_id    404770 non-null  int64 \n",
      " 1   revenue    404770 non-null  int64 \n",
      " 2   testgroup  404770 non-null  object\n",
      "dtypes: int64(2), object(1)\n",
      "memory usage: 9.3+ MB\n"
     ]
    }
   ],
   "source": [
    "data.info()"
   ]
  },
  {
   "cell_type": "code",
   "execution_count": 20,
   "metadata": {},
   "outputs": [
    {
     "data": {
      "text/plain": [
       "user_id      False\n",
       "revenue      False\n",
       "testgroup    False\n",
       "dtype: bool"
      ]
     },
     "execution_count": 20,
     "metadata": {},
     "output_type": "execute_result"
    }
   ],
   "source": [
    "data.isnull().any()"
   ]
  },
  {
   "cell_type": "code",
   "execution_count": 21,
   "metadata": {},
   "outputs": [
    {
     "data": {
      "text/plain": [
       "False"
      ]
     },
     "execution_count": 21,
     "metadata": {},
     "output_type": "execute_result"
    }
   ],
   "source": [
    "data.duplicated().any()"
   ]
  },
  {
   "cell_type": "markdown",
   "metadata": {},
   "source": [
    "# Выводы\n",
    "Размер дф (404770, 3), пустых значений нет, дубликатов нет"
   ]
  },
  {
   "cell_type": "code",
   "execution_count": 46,
   "metadata": {},
   "outputs": [
    {
     "data": {
      "text/html": [
       "<div>\n",
       "<style scoped>\n",
       "    .dataframe tbody tr th:only-of-type {\n",
       "        vertical-align: middle;\n",
       "    }\n",
       "\n",
       "    .dataframe tbody tr th {\n",
       "        vertical-align: top;\n",
       "    }\n",
       "\n",
       "    .dataframe thead tr th {\n",
       "        text-align: left;\n",
       "    }\n",
       "\n",
       "    .dataframe thead tr:last-of-type th {\n",
       "        text-align: right;\n",
       "    }\n",
       "</style>\n",
       "<table border=\"1\" class=\"dataframe\">\n",
       "  <thead>\n",
       "    <tr>\n",
       "      <th></th>\n",
       "      <th colspan=\"8\" halign=\"left\">user_id</th>\n",
       "      <th colspan=\"8\" halign=\"left\">revenue</th>\n",
       "    </tr>\n",
       "    <tr>\n",
       "      <th></th>\n",
       "      <th>count</th>\n",
       "      <th>mean</th>\n",
       "      <th>std</th>\n",
       "      <th>min</th>\n",
       "      <th>25%</th>\n",
       "      <th>50%</th>\n",
       "      <th>75%</th>\n",
       "      <th>max</th>\n",
       "      <th>count</th>\n",
       "      <th>mean</th>\n",
       "      <th>std</th>\n",
       "      <th>min</th>\n",
       "      <th>25%</th>\n",
       "      <th>50%</th>\n",
       "      <th>75%</th>\n",
       "      <th>max</th>\n",
       "    </tr>\n",
       "    <tr>\n",
       "      <th>testgroup</th>\n",
       "      <th></th>\n",
       "      <th></th>\n",
       "      <th></th>\n",
       "      <th></th>\n",
       "      <th></th>\n",
       "      <th></th>\n",
       "      <th></th>\n",
       "      <th></th>\n",
       "      <th></th>\n",
       "      <th></th>\n",
       "      <th></th>\n",
       "      <th></th>\n",
       "      <th></th>\n",
       "      <th></th>\n",
       "      <th></th>\n",
       "      <th></th>\n",
       "    </tr>\n",
       "  </thead>\n",
       "  <tbody>\n",
       "    <tr>\n",
       "      <th>a</th>\n",
       "      <td>202103.0</td>\n",
       "      <td>202555.909843</td>\n",
       "      <td>116802.329266</td>\n",
       "      <td>2.0</td>\n",
       "      <td>101502.5</td>\n",
       "      <td>202988.0</td>\n",
       "      <td>303559.0</td>\n",
       "      <td>404769.0</td>\n",
       "      <td>202103.0</td>\n",
       "      <td>25.413720</td>\n",
       "      <td>920.768137</td>\n",
       "      <td>0.0</td>\n",
       "      <td>0.0</td>\n",
       "      <td>0.0</td>\n",
       "      <td>0.0</td>\n",
       "      <td>37433.0</td>\n",
       "    </tr>\n",
       "    <tr>\n",
       "      <th>b</th>\n",
       "      <td>202667.0</td>\n",
       "      <td>202215.564389</td>\n",
       "      <td>116891.926690</td>\n",
       "      <td>1.0</td>\n",
       "      <td>100855.5</td>\n",
       "      <td>201821.0</td>\n",
       "      <td>303602.5</td>\n",
       "      <td>404770.0</td>\n",
       "      <td>202667.0</td>\n",
       "      <td>26.751287</td>\n",
       "      <td>287.324162</td>\n",
       "      <td>0.0</td>\n",
       "      <td>0.0</td>\n",
       "      <td>0.0</td>\n",
       "      <td>0.0</td>\n",
       "      <td>4000.0</td>\n",
       "    </tr>\n",
       "  </tbody>\n",
       "</table>\n",
       "</div>"
      ],
      "text/plain": [
       "            user_id                                                         \\\n",
       "              count           mean            std  min       25%       50%   \n",
       "testgroup                                                                    \n",
       "a          202103.0  202555.909843  116802.329266  2.0  101502.5  202988.0   \n",
       "b          202667.0  202215.564389  116891.926690  1.0  100855.5  201821.0   \n",
       "\n",
       "                                revenue                                        \\\n",
       "                75%       max     count       mean         std  min  25%  50%   \n",
       "testgroup                                                                       \n",
       "a          303559.0  404769.0  202103.0  25.413720  920.768137  0.0  0.0  0.0   \n",
       "b          303602.5  404770.0  202667.0  26.751287  287.324162  0.0  0.0  0.0   \n",
       "\n",
       "                         \n",
       "           75%      max  \n",
       "testgroup                \n",
       "a          0.0  37433.0  \n",
       "b          0.0   4000.0  "
      ]
     },
     "execution_count": 46,
     "metadata": {},
     "output_type": "execute_result"
    }
   ],
   "source": [
    "data.groupby('testgroup').describe()"
   ]
  },
  {
   "cell_type": "code",
   "execution_count": 22,
   "metadata": {},
   "outputs": [],
   "source": [
    "#Выводим отдельно тестовую и контрольную гурппу "
   ]
  },
  {
   "cell_type": "code",
   "execution_count": 38,
   "metadata": {},
   "outputs": [],
   "source": [
    "control_group = data.query('testgroup == \"a\"')\n"
   ]
  },
  {
   "cell_type": "code",
   "execution_count": 39,
   "metadata": {},
   "outputs": [],
   "source": [
    "test_group = data.query('testgroup == \"b\"') "
   ]
  },
  {
   "cell_type": "code",
   "execution_count": 35,
   "metadata": {},
   "outputs": [
    {
     "data": {
      "text/html": [
       "<div>\n",
       "<style scoped>\n",
       "    .dataframe tbody tr th:only-of-type {\n",
       "        vertical-align: middle;\n",
       "    }\n",
       "\n",
       "    .dataframe tbody tr th {\n",
       "        vertical-align: top;\n",
       "    }\n",
       "\n",
       "    .dataframe thead th {\n",
       "        text-align: right;\n",
       "    }\n",
       "</style>\n",
       "<table border=\"1\" class=\"dataframe\">\n",
       "  <thead>\n",
       "    <tr style=\"text-align: right;\">\n",
       "      <th></th>\n",
       "      <th>user_id</th>\n",
       "      <th>revenue</th>\n",
       "      <th>testgroup</th>\n",
       "    </tr>\n",
       "  </thead>\n",
       "  <tbody>\n",
       "    <tr>\n",
       "      <th>1</th>\n",
       "      <td>2</td>\n",
       "      <td>0</td>\n",
       "      <td>a</td>\n",
       "    </tr>\n",
       "    <tr>\n",
       "      <th>2</th>\n",
       "      <td>3</td>\n",
       "      <td>0</td>\n",
       "      <td>a</td>\n",
       "    </tr>\n",
       "    <tr>\n",
       "      <th>9</th>\n",
       "      <td>10</td>\n",
       "      <td>0</td>\n",
       "      <td>a</td>\n",
       "    </tr>\n",
       "    <tr>\n",
       "      <th>10</th>\n",
       "      <td>11</td>\n",
       "      <td>0</td>\n",
       "      <td>a</td>\n",
       "    </tr>\n",
       "    <tr>\n",
       "      <th>11</th>\n",
       "      <td>12</td>\n",
       "      <td>0</td>\n",
       "      <td>a</td>\n",
       "    </tr>\n",
       "  </tbody>\n",
       "</table>\n",
       "</div>"
      ],
      "text/plain": [
       "    user_id  revenue testgroup\n",
       "1         2        0         a\n",
       "2         3        0         a\n",
       "9        10        0         a\n",
       "10       11        0         a\n",
       "11       12        0         a"
      ]
     },
     "execution_count": 35,
     "metadata": {},
     "output_type": "execute_result"
    }
   ],
   "source": [
    "control_group.head(5)"
   ]
  },
  {
   "cell_type": "code",
   "execution_count": 36,
   "metadata": {},
   "outputs": [
    {
     "data": {
      "text/plain": [
       "(202103, 3)"
      ]
     },
     "execution_count": 36,
     "metadata": {},
     "output_type": "execute_result"
    }
   ],
   "source": [
    "control_group.shape"
   ]
  },
  {
   "cell_type": "code",
   "execution_count": 41,
   "metadata": {},
   "outputs": [
    {
     "data": {
      "text/html": [
       "<div>\n",
       "<style scoped>\n",
       "    .dataframe tbody tr th:only-of-type {\n",
       "        vertical-align: middle;\n",
       "    }\n",
       "\n",
       "    .dataframe tbody tr th {\n",
       "        vertical-align: top;\n",
       "    }\n",
       "\n",
       "    .dataframe thead th {\n",
       "        text-align: right;\n",
       "    }\n",
       "</style>\n",
       "<table border=\"1\" class=\"dataframe\">\n",
       "  <thead>\n",
       "    <tr style=\"text-align: right;\">\n",
       "      <th></th>\n",
       "      <th>user_id</th>\n",
       "      <th>revenue</th>\n",
       "      <th>testgroup</th>\n",
       "    </tr>\n",
       "  </thead>\n",
       "  <tbody>\n",
       "    <tr>\n",
       "      <th>0</th>\n",
       "      <td>1</td>\n",
       "      <td>0</td>\n",
       "      <td>b</td>\n",
       "    </tr>\n",
       "    <tr>\n",
       "      <th>3</th>\n",
       "      <td>4</td>\n",
       "      <td>0</td>\n",
       "      <td>b</td>\n",
       "    </tr>\n",
       "    <tr>\n",
       "      <th>4</th>\n",
       "      <td>5</td>\n",
       "      <td>0</td>\n",
       "      <td>b</td>\n",
       "    </tr>\n",
       "    <tr>\n",
       "      <th>5</th>\n",
       "      <td>6</td>\n",
       "      <td>0</td>\n",
       "      <td>b</td>\n",
       "    </tr>\n",
       "    <tr>\n",
       "      <th>6</th>\n",
       "      <td>7</td>\n",
       "      <td>0</td>\n",
       "      <td>b</td>\n",
       "    </tr>\n",
       "  </tbody>\n",
       "</table>\n",
       "</div>"
      ],
      "text/plain": [
       "   user_id  revenue testgroup\n",
       "0        1        0         b\n",
       "3        4        0         b\n",
       "4        5        0         b\n",
       "5        6        0         b\n",
       "6        7        0         b"
      ]
     },
     "execution_count": 41,
     "metadata": {},
     "output_type": "execute_result"
    }
   ],
   "source": [
    "test_group.head(5)"
   ]
  },
  {
   "cell_type": "code",
   "execution_count": 43,
   "metadata": {},
   "outputs": [
    {
     "data": {
      "text/plain": [
       "(202667, 3)"
      ]
     },
     "execution_count": 43,
     "metadata": {},
     "output_type": "execute_result"
    }
   ],
   "source": [
    "test_group.shape"
   ]
  },
  {
   "cell_type": "code",
   "execution_count": 44,
   "metadata": {},
   "outputs": [],
   "source": [
    "#202103+202667 = 404770 - ничего не потеряли"
   ]
  },
  {
   "cell_type": "code",
   "execution_count": null,
   "metadata": {},
   "outputs": [],
   "source": [
    "#посмотрим  распределения revenue для каждой группы"
   ]
  },
  {
   "cell_type": "code",
   "execution_count": 65,
   "metadata": {},
   "outputs": [],
   "source": [
    "control_group_rev = data.query('testgroup == \"a\" and revenue > 0')\n",
    "test_group_rev = data.query('testgroup == \"b\" and revenue > 0')"
   ]
  },
  {
   "cell_type": "code",
   "execution_count": 66,
   "metadata": {},
   "outputs": [
    {
     "data": {
      "text/plain": [
       "<matplotlib.axes._subplots.AxesSubplot at 0x7f53b3fc8c88>"
      ]
     },
     "execution_count": 66,
     "metadata": {},
     "output_type": "execute_result"
    },
    {
     "data": {
      "image/png": "[encoded data removed]",
      "text/plain": [
       "<Figure size 1224x360 with 1 Axes>"
      ]
     },
     "metadata": {},
     "output_type": "display_data"
    }
   ],
   "source": [
    "sns.set(rc={'figure.figsize': (17, 5)})\n",
    "sns.set(font_scale=1)\n",
    "sns.histplot(data=control_group_rev, x='revenue', color='red', bins=20) "
   ]
  },
  {
   "cell_type": "code",
   "execution_count": 67,
   "metadata": {},
   "outputs": [
    {
     "data": {
      "text/plain": [
       "<matplotlib.axes._subplots.AxesSubplot at 0x7f53b4554dd8>"
      ]
     },
     "execution_count": 67,
     "metadata": {},
     "output_type": "execute_result"
    },
    {
     "data": {
      "image/png": "[encoded data removed]",
      "text/plain": [
       "<Figure size 1224x360 with 1 Axes>"
      ]
     },
     "metadata": {},
     "output_type": "display_data"
    }
   ],
   "source": [
    "sns.set(rc={'figure.figsize': (17, 5)})\n",
    "sns.set(font_scale=1)\n",
    "sns.histplot(data=test_group_rev, x='revenue', color='green', bins=20) "
   ]
  },
  {
   "cell_type": "code",
   "execution_count": 72,
   "metadata": {},
   "outputs": [
    {
     "data": {
      "text/html": [
       "<div>\n",
       "<style scoped>\n",
       "    .dataframe tbody tr th:only-of-type {\n",
       "        vertical-align: middle;\n",
       "    }\n",
       "\n",
       "    .dataframe tbody tr th {\n",
       "        vertical-align: top;\n",
       "    }\n",
       "\n",
       "    .dataframe thead th {\n",
       "        text-align: right;\n",
       "    }\n",
       "</style>\n",
       "<table border=\"1\" class=\"dataframe\">\n",
       "  <thead>\n",
       "    <tr style=\"text-align: right;\">\n",
       "      <th></th>\n",
       "      <th>revenue</th>\n",
       "    </tr>\n",
       "    <tr>\n",
       "      <th>testgroup</th>\n",
       "      <th></th>\n",
       "    </tr>\n",
       "  </thead>\n",
       "  <tbody>\n",
       "    <tr>\n",
       "      <th>a</th>\n",
       "      <td>5136189</td>\n",
       "    </tr>\n",
       "    <tr>\n",
       "      <th>b</th>\n",
       "      <td>5421603</td>\n",
       "    </tr>\n",
       "  </tbody>\n",
       "</table>\n",
       "</div>"
      ],
      "text/plain": [
       "           revenue\n",
       "testgroup         \n",
       "a          5136189\n",
       "b          5421603"
      ]
     },
     "execution_count": 72,
     "metadata": {},
     "output_type": "execute_result"
    }
   ],
   "source": [
    "data.groupby('testgroup').agg({'revenue':'sum'})"
   ]
  },
  {
   "cell_type": "markdown",
   "metadata": {},
   "source": [
    "# интепритация графиков:\n",
    "В контрольной группе  много кто платит маленькую сумму, но есть выброс, где маленькео кол-во платит большую сумму. В тестовой группе нет расбросов, но и нет очень больших сумм, как в 1 группе"
   ]
  },
  {
   "cell_type": "code",
   "execution_count": 15,
   "metadata": {},
   "outputs": [],
   "source": [
    "# Расчет метрик для каждой группы\n",
    "df_analysis = data.groupby('testgroup', as_index=False)\\\n",
    "    .agg( all_users=('user_id', 'count'), total_revenue=('revenue', 'sum')) # Общее количество пользователей, Общий доход\n",
    "\n",
    "# Подсчет количества платящих пользователей\n",
    "pay_users = data[data['revenue'] > 0].groupby('testgroup')['user_id'].count().reset_index()\n",
    "pay_users.columns = ['testgroup', 'users_pay']  # Переименуем колонки\n",
    "\n",
    "# Объединяем результаты\n",
    "df_analysis = df_analysis.merge(pay_users, on='testgroup', how='left')\n",
    "\n",
    "# Расчет ARPU и ARPPU\n",
    "df_analysis['ARPU'] = df_analysis['total_revenue'] / df_analysis['all_users']\n",
    "df_analysis['ARPPU'] = df_analysis['total_revenue'] / df_analysis['users_pay'] \n",
    "\n",
    "# Процент платящих пользователей от общего числа пользователей\n",
    "df_analysis['CR'] = (df_analysis['users_pay'] / df_analysis['all_users']) * 100  "
   ]
  },
  {
   "cell_type": "code",
   "execution_count": 16,
   "metadata": {},
   "outputs": [
    {
     "data": {
      "text/html": [
       "<div>\n",
       "<style scoped>\n",
       "    .dataframe tbody tr th:only-of-type {\n",
       "        vertical-align: middle;\n",
       "    }\n",
       "\n",
       "    .dataframe tbody tr th {\n",
       "        vertical-align: top;\n",
       "    }\n",
       "\n",
       "    .dataframe thead th {\n",
       "        text-align: right;\n",
       "    }\n",
       "</style>\n",
       "<table border=\"1\" class=\"dataframe\">\n",
       "  <thead>\n",
       "    <tr style=\"text-align: right;\">\n",
       "      <th></th>\n",
       "      <th>testgroup</th>\n",
       "      <th>all_users</th>\n",
       "      <th>total_revenue</th>\n",
       "      <th>users_pay</th>\n",
       "      <th>ARPU</th>\n",
       "      <th>ARPPU</th>\n",
       "      <th>CR</th>\n",
       "    </tr>\n",
       "  </thead>\n",
       "  <tbody>\n",
       "    <tr>\n",
       "      <th>0</th>\n",
       "      <td>a</td>\n",
       "      <td>202103</td>\n",
       "      <td>5136189</td>\n",
       "      <td>1928</td>\n",
       "      <td>25.413720</td>\n",
       "      <td>2663.998444</td>\n",
       "      <td>0.953969</td>\n",
       "    </tr>\n",
       "    <tr>\n",
       "      <th>1</th>\n",
       "      <td>b</td>\n",
       "      <td>202667</td>\n",
       "      <td>5421603</td>\n",
       "      <td>1805</td>\n",
       "      <td>26.751287</td>\n",
       "      <td>3003.658172</td>\n",
       "      <td>0.890624</td>\n",
       "    </tr>\n",
       "  </tbody>\n",
       "</table>\n",
       "</div>"
      ],
      "text/plain": [
       "  testgroup  all_users  total_revenue  users_pay       ARPU        ARPPU  \\\n",
       "0         a     202103        5136189       1928  25.413720  2663.998444   \n",
       "1         b     202667        5421603       1805  26.751287  3003.658172   \n",
       "\n",
       "         CR  \n",
       "0  0.953969  \n",
       "1  0.890624  "
      ]
     },
     "execution_count": 16,
     "metadata": {},
     "output_type": "execute_result"
    }
   ],
   "source": [
    "df_analysis"
   ]
  },
  {
   "cell_type": "code",
   "execution_count": null,
   "metadata": {},
   "outputs": [],
   "source": [
    "#Сформулируем гипотезы для t-теста (МЕТРИКА ARPU)\n",
    "#H0: ARPU в группе \"а\" и группе \"в\" не отличается\n",
    "#H1: ARPU в группе \"а\" и группе \"в\"  отличается"
   ]
  },
  {
   "cell_type": "code",
   "execution_count": 5,
   "metadata": {},
   "outputs": [],
   "source": [
    "# контрольная группа (a)\n",
    "control = data.loc[data.testgroup == 'a']"
   ]
  },
  {
   "cell_type": "code",
   "execution_count": 6,
   "metadata": {},
   "outputs": [],
   "source": [
    "# тестовая группа (b)\n",
    "test = data.loc[data.testgroup == 'b']"
   ]
  },
  {
   "cell_type": "code",
   "execution_count": 7,
   "metadata": {},
   "outputs": [
    {
     "data": {
      "text/plain": [
       "Ttest_indResult(statistic=-0.6242026493616787, pvalue=0.532494858971837)"
      ]
     },
     "execution_count": 7,
     "metadata": {},
     "output_type": "execute_result"
    }
   ],
   "source": [
    "ss.ttest_ind(control.revenue, test.revenue)"
   ]
  },
  {
   "cell_type": "code",
   "execution_count": null,
   "metadata": {},
   "outputs": [],
   "source": [
    "#Вывод : pvalue > 0.05, поэтому нулевую гипотезу отклонить нельзя."
   ]
  },
  {
   "cell_type": "code",
   "execution_count": null,
   "metadata": {},
   "outputs": [],
   "source": [
    "#Сформулируем гипотезы для t-теста (МЕТРИКА ARPPU)\n",
    "#H0: ARPPU в группе \"а\" и группе \"в\" не отличается\n",
    "#H1: ARPPU в группе \"а\" и группе \"в\"  отличается"
   ]
  },
  {
   "cell_type": "code",
   "execution_count": 11,
   "metadata": {},
   "outputs": [],
   "source": [
    "# контрольная группа (a)\n",
    "control_2 = data.loc[(data.testgroup == 'a') & (data.revenue > 0)]"
   ]
  },
  {
   "cell_type": "code",
   "execution_count": 12,
   "metadata": {},
   "outputs": [],
   "source": [
    "# тестовая группа\n",
    "test_2 = data.loc[(data.testgroup == 'b') & (data.revenue > 0)]"
   ]
  },
  {
   "cell_type": "code",
   "execution_count": 13,
   "metadata": {},
   "outputs": [
    {
     "data": {
      "text/plain": [
       "Ttest_indResult(statistic=-1.5917100176862002, pvalue=0.11153459157259504)"
      ]
     },
     "execution_count": 13,
     "metadata": {},
     "output_type": "execute_result"
    }
   ],
   "source": [
    "ss.ttest_ind(control_2.revenue, test_2.revenue)"
   ]
  },
  {
   "cell_type": "code",
   "execution_count": null,
   "metadata": {},
   "outputs": [],
   "source": [
    "#Вывод : pvalue > 0.05, поэтому нулевую гипотезу отклонить нельзя."
   ]
  },
  {
   "cell_type": "code",
   "execution_count": null,
   "metadata": {},
   "outputs": [],
   "source": [
    "#Сформулируем гипотезы  \n",
    "#H0: CR в контрольной и тестовой группах не отличается\n",
    "#H1: CR в контрольной и тестовой группах отличается"
   ]
  },
  {
   "cell_type": "code",
   "execution_count": 19,
   "metadata": {},
   "outputs": [
    {
     "data": {
      "text/html": [
       "<div>\n",
       "<style scoped>\n",
       "    .dataframe tbody tr th:only-of-type {\n",
       "        vertical-align: middle;\n",
       "    }\n",
       "\n",
       "    .dataframe tbody tr th {\n",
       "        vertical-align: top;\n",
       "    }\n",
       "\n",
       "    .dataframe thead th {\n",
       "        text-align: right;\n",
       "    }\n",
       "</style>\n",
       "<table border=\"1\" class=\"dataframe\">\n",
       "  <thead>\n",
       "    <tr style=\"text-align: right;\">\n",
       "      <th></th>\n",
       "      <th>user_id</th>\n",
       "      <th>revenue</th>\n",
       "      <th>testgroup</th>\n",
       "      <th>yes_no</th>\n",
       "    </tr>\n",
       "  </thead>\n",
       "  <tbody>\n",
       "    <tr>\n",
       "      <th>0</th>\n",
       "      <td>1</td>\n",
       "      <td>0</td>\n",
       "      <td>b</td>\n",
       "      <td>No</td>\n",
       "    </tr>\n",
       "    <tr>\n",
       "      <th>1</th>\n",
       "      <td>2</td>\n",
       "      <td>0</td>\n",
       "      <td>a</td>\n",
       "      <td>No</td>\n",
       "    </tr>\n",
       "    <tr>\n",
       "      <th>2</th>\n",
       "      <td>3</td>\n",
       "      <td>0</td>\n",
       "      <td>a</td>\n",
       "      <td>No</td>\n",
       "    </tr>\n",
       "    <tr>\n",
       "      <th>3</th>\n",
       "      <td>4</td>\n",
       "      <td>0</td>\n",
       "      <td>b</td>\n",
       "      <td>No</td>\n",
       "    </tr>\n",
       "    <tr>\n",
       "      <th>4</th>\n",
       "      <td>5</td>\n",
       "      <td>0</td>\n",
       "      <td>b</td>\n",
       "      <td>No</td>\n",
       "    </tr>\n",
       "  </tbody>\n",
       "</table>\n",
       "</div>"
      ],
      "text/plain": [
       "   user_id  revenue testgroup yes_no\n",
       "0        1        0         b     No\n",
       "1        2        0         a     No\n",
       "2        3        0         a     No\n",
       "3        4        0         b     No\n",
       "4        5        0         b     No"
      ]
     },
     "execution_count": 19,
     "metadata": {},
     "output_type": "execute_result"
    }
   ],
   "source": [
    "# добавляем информацию оплаты пользователя\n",
    "df_ab = data.assign(yes_no = np.where(data.revenue == 0, 'No', 'Yes'))\n",
    "df_ab.head()"
   ]
  },
  {
   "cell_type": "code",
   "execution_count": 20,
   "metadata": {},
   "outputs": [],
   "source": [
    "table = pd.crosstab(df_ab.testgroup, df_ab.yes_no)"
   ]
  },
  {
   "cell_type": "code",
   "execution_count": 21,
   "metadata": {},
   "outputs": [
    {
     "data": {
      "text/html": [
       "<div>\n",
       "<style scoped>\n",
       "    .dataframe tbody tr th:only-of-type {\n",
       "        vertical-align: middle;\n",
       "    }\n",
       "\n",
       "    .dataframe tbody tr th {\n",
       "        vertical-align: top;\n",
       "    }\n",
       "\n",
       "    .dataframe thead th {\n",
       "        text-align: right;\n",
       "    }\n",
       "</style>\n",
       "<table border=\"1\" class=\"dataframe\">\n",
       "  <thead>\n",
       "    <tr style=\"text-align: right;\">\n",
       "      <th>yes_no</th>\n",
       "      <th>No</th>\n",
       "      <th>Yes</th>\n",
       "    </tr>\n",
       "    <tr>\n",
       "      <th>testgroup</th>\n",
       "      <th></th>\n",
       "      <th></th>\n",
       "    </tr>\n",
       "  </thead>\n",
       "  <tbody>\n",
       "    <tr>\n",
       "      <th>a</th>\n",
       "      <td>200175</td>\n",
       "      <td>1928</td>\n",
       "    </tr>\n",
       "    <tr>\n",
       "      <th>b</th>\n",
       "      <td>200862</td>\n",
       "      <td>1805</td>\n",
       "    </tr>\n",
       "  </tbody>\n",
       "</table>\n",
       "</div>"
      ],
      "text/plain": [
       "yes_no         No   Yes\n",
       "testgroup              \n",
       "a          200175  1928\n",
       "b          200862  1805"
      ]
     },
     "execution_count": 21,
     "metadata": {},
     "output_type": "execute_result"
    }
   ],
   "source": [
    "table"
   ]
  },
  {
   "cell_type": "code",
   "execution_count": 22,
   "metadata": {},
   "outputs": [
    {
     "data": {
      "text/plain": [
       "0.03647561892312613"
      ]
     },
     "execution_count": 22,
     "metadata": {},
     "output_type": "execute_result"
    }
   ],
   "source": [
    "chi2_contingency(table)[1]"
   ]
  },
  {
   "cell_type": "code",
   "execution_count": 23,
   "metadata": {},
   "outputs": [],
   "source": [
    "#Вывод : pvalue < 0.05, поэтому нулевую гипотезу отклонить можно.\n",
    "#Различие CR в контрольной и тестовой группах статистически значимо"
   ]
  },
  {
   "cell_type": "code",
   "execution_count": null,
   "metadata": {},
   "outputs": [],
   "source": []
  },
  {
   "cell_type": "markdown",
   "metadata": {},
   "source": [
    "# Вывод:\n",
    "В ходе анализа метрик ARPU и ARPPU в тестовой и контрольной группах, можно сделать вывод что они не являются статистически значимыми. Статистически значимое различие есть только по метрике CR. На основании представленных данных можно сделать вывод, что набор предложений в контрольной группе оказался более эффективным."
   ]
  },
  {
   "cell_type": "markdown",
   "metadata": {},
   "source": [
    "# Задание 3\n",
    "В игре Plants & Gardens каждый месяц проводятся тематические события, ограниченные по времени. В них игроки могут получить уникальные предметы для сада и персонажей, дополнительные монеты или бонусы. Для получения награды требуется пройти ряд уровней за определенное время. С помощью каких метрик можно оценить результаты последнего прошедшего события?\n",
    "\n",
    "Предположим, в другом событии мы усложнили механику событий так, что при каждой неудачной попытке выполнения уровня игрок будет откатываться на несколько уровней назад. Изменится ли набор метрик оценки результата? Если да, то как?"
   ]
  },
  {
   "cell_type": "markdown",
   "metadata": {},
   "source": [
    "# Вывод\n",
    "Для оценки результатов прошедшего события в игре можно использовать следующие метрики:\n",
    "1. Количество игроков, принявших участие в событии:\n",
    "\n",
    "-Общее количество участников.\n",
    "\n",
    "-Количество новых игроков, впервые принявших участие в событии.\n",
    "\n",
    "-DAU - количество уникальных активных пользователей, которые заходили в игру ежедневно.\n",
    "\n",
    "2. Уровень вовлеченности игроков:\n",
    "\n",
    "-Количество пройденных уровней в среднем на одного игрока.\n",
    "\n",
    "-Процент игроков, успешно завершивших все уровни события.\n",
    "\n",
    "-Количество попыток, потребовавшихся игрокам для прохождения всех уровней.\n",
    "\n",
    "-Среднее время прохождения каждого уровня.\n",
    "\n",
    "3. Retention пользователей после получения бонусов. Сможем оценить, насколько бонусы игры интересны пользователям.\n",
    "\n",
    "4. Денежные метрики (ARPU, ARPPU), если события предпологают какие-либо покупки в игре\n",
    "\n",
    "\n",
    "Если в другом событии механика будет усложнена, где при неудачных попытках игроки будут откатываться на несколько уровней назад, то к текущим метрикам нужно добавить следующие метрики:\n",
    "\n",
    "1. Churn Rate - количество пользователей, которые отказались после определенного события.)\n",
    "2. Количество игроков переставших играть после отката: отражает уровень удовлетворенности игроков и их готовность продолжать участие в событии.\n",
    "3. Количесвто игроков, оставшихся в игре после отката.\n",
    "\n",
    "как вывод посмотреть сколько игроков долшло до финиша после откатов и без откатов."
   ]
  },
  {
   "cell_type": "code",
   "execution_count": null,
   "metadata": {},
   "outputs": [],
   "source": []
  }
 ],
 "metadata": {
  "kernelspec": {
   "display_name": "Python 3",
   "language": "python",
   "name": "python3"
  },
  "language_info": {
   "codemirror_mode": {
    "name": "ipython",
    "version": 3
   },
   "file_extension": ".py",
   "mimetype": "text/x-python",
   "name": "python",
   "nbconvert_exporter": "python",
   "pygments_lexer": "ipython3",
   "version": "3.7.3"
  }
 },
 "nbformat": 4,
 "nbformat_minor": 4
}
